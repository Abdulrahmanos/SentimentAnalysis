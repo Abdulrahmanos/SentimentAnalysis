{
 "cells": [
  {
   "cell_type": "code",
   "execution_count": 2,
   "id": "29a2c24e",
   "metadata": {},
   "outputs": [],
   "source": [
    "from textblob import TextBlob"
   ]
  },
  {
   "cell_type": "code",
   "execution_count": 3,
   "id": "9eed8ae3",
   "metadata": {},
   "outputs": [],
   "source": [
    "# Use the textblob module to make a function called stringTosentiment that"
   ]
  },
  {
   "cell_type": "code",
   "execution_count": 4,
   "id": "37c8f61c",
   "metadata": {},
   "outputs": [],
   "source": [
    "# returns a sentences setiment"
   ]
  },
  {
   "cell_type": "code",
   "execution_count": 5,
   "id": "23e03d3a",
   "metadata": {},
   "outputs": [],
   "source": [
    "def stringToSentiment(text):\n",
    "    return TextBlob(text).sentiment.polarity"
   ]
  },
  {
   "cell_type": "code",
   "execution_count": 6,
   "id": "b8067f11",
   "metadata": {},
   "outputs": [
    {
     "data": {
      "text/plain": [
       "-0.8"
      ]
     },
     "execution_count": 6,
     "metadata": {},
     "output_type": "execute_result"
    }
   ],
   "source": [
    "stringToSentiment('i hate you')"
   ]
  },
  {
   "cell_type": "code",
   "execution_count": 7,
   "id": "1c7a87a9",
   "metadata": {},
   "outputs": [
    {
     "data": {
      "text/plain": [
       "0.5"
      ]
     },
     "execution_count": 7,
     "metadata": {},
     "output_type": "execute_result"
    }
   ],
   "source": [
    "stringToSentiment('i love you')"
   ]
  },
  {
   "cell_type": "code",
   "execution_count": 8,
   "id": "374d2f23",
   "metadata": {},
   "outputs": [
    {
     "data": {
      "text/plain": [
       "0.0"
      ]
     },
     "execution_count": 8,
     "metadata": {},
     "output_type": "execute_result"
    }
   ],
   "source": [
    "stringToSentiment('i see you')"
   ]
  },
  {
   "cell_type": "code",
   "execution_count": 9,
   "id": "9193462e",
   "metadata": {},
   "outputs": [],
   "source": [
    "# Now, let's read in our tweets for our study:\n",
    "\n",
    "# read in data into a dataframes"
   ]
  },
  {
   "cell_type": "code",
   "execution_count": 10,
   "id": "b1af0a23",
   "metadata": {},
   "outputs": [],
   "source": [
    "from textblob import TextBlob"
   ]
  },
  {
   "cell_type": "code",
   "execution_count": 11,
   "id": "9da72d87",
   "metadata": {},
   "outputs": [],
   "source": [
    "import pandas as pd"
   ]
  },
  {
   "cell_type": "code",
   "execution_count": 12,
   "id": "ce0b8222",
   "metadata": {},
   "outputs": [],
   "source": [
    "%matplotlib inline"
   ]
  },
  {
   "cell_type": "code",
   "execution_count": 17,
   "id": "b68c7db5",
   "metadata": {},
   "outputs": [],
   "source": [
    "tweets = pd.read_csv('stockerbot-export.csv', on_bad_lines = 'skip') "
   ]
  },
  {
   "cell_type": "code",
   "execution_count": 18,
   "id": "104b57fb",
   "metadata": {},
   "outputs": [
    {
     "data": {
      "text/html": [
       "<div>\n",
       "<style scoped>\n",
       "    .dataframe tbody tr th:only-of-type {\n",
       "        vertical-align: middle;\n",
       "    }\n",
       "\n",
       "    .dataframe tbody tr th {\n",
       "        vertical-align: top;\n",
       "    }\n",
       "\n",
       "    .dataframe thead th {\n",
       "        text-align: right;\n",
       "    }\n",
       "</style>\n",
       "<table border=\"1\" class=\"dataframe\">\n",
       "  <thead>\n",
       "    <tr style=\"text-align: right;\">\n",
       "      <th></th>\n",
       "      <th>id</th>\n",
       "      <th>text</th>\n",
       "      <th>timestamp</th>\n",
       "      <th>source</th>\n",
       "      <th>symbols</th>\n",
       "      <th>company_names</th>\n",
       "      <th>url</th>\n",
       "      <th>verified</th>\n",
       "    </tr>\n",
       "  </thead>\n",
       "  <tbody>\n",
       "    <tr>\n",
       "      <th>0</th>\n",
       "      <td>1019696670777503700</td>\n",
       "      <td>VIDEO: “I was in my office. I was minding my o...</td>\n",
       "      <td>Wed Jul 18 21:33:26 +0000 2018</td>\n",
       "      <td>GoldmanSachs</td>\n",
       "      <td>GS</td>\n",
       "      <td>The Goldman Sachs</td>\n",
       "      <td>https://twitter.com/i/web/status/1019696670777...</td>\n",
       "      <td>True</td>\n",
       "    </tr>\n",
       "    <tr>\n",
       "      <th>1</th>\n",
       "      <td>1019709091038548000</td>\n",
       "      <td>The price of lumber $LB_F is down 22% since hi...</td>\n",
       "      <td>Wed Jul 18 22:22:47 +0000 2018</td>\n",
       "      <td>StockTwits</td>\n",
       "      <td>M</td>\n",
       "      <td>Macy's</td>\n",
       "      <td>https://twitter.com/i/web/status/1019709091038...</td>\n",
       "      <td>True</td>\n",
       "    </tr>\n",
       "    <tr>\n",
       "      <th>2</th>\n",
       "      <td>1019711413798035500</td>\n",
       "      <td>Who says the American Dream is dead? https://t...</td>\n",
       "      <td>Wed Jul 18 22:32:01 +0000 2018</td>\n",
       "      <td>TheStreet</td>\n",
       "      <td>AIG</td>\n",
       "      <td>American</td>\n",
       "      <td>https://buff.ly/2L3kmc4</td>\n",
       "      <td>True</td>\n",
       "    </tr>\n",
       "    <tr>\n",
       "      <th>3</th>\n",
       "      <td>1019716662587740200</td>\n",
       "      <td>Barry Silbert is extremely optimistic on bitco...</td>\n",
       "      <td>Wed Jul 18 22:52:52 +0000 2018</td>\n",
       "      <td>MarketWatch</td>\n",
       "      <td>BTC</td>\n",
       "      <td>Bitcoin</td>\n",
       "      <td>https://twitter.com/i/web/status/1019716662587...</td>\n",
       "      <td>True</td>\n",
       "    </tr>\n",
       "    <tr>\n",
       "      <th>4</th>\n",
       "      <td>1019718460287389700</td>\n",
       "      <td>How satellites avoid attacks and space junk wh...</td>\n",
       "      <td>Wed Jul 18 23:00:01 +0000 2018</td>\n",
       "      <td>Forbes</td>\n",
       "      <td>ORCL</td>\n",
       "      <td>Oracle</td>\n",
       "      <td>http://on.forbes.com/6013DqDDU</td>\n",
       "      <td>True</td>\n",
       "    </tr>\n",
       "  </tbody>\n",
       "</table>\n",
       "</div>"
      ],
      "text/plain": [
       "                    id                                               text  \\\n",
       "0  1019696670777503700  VIDEO: “I was in my office. I was minding my o...   \n",
       "1  1019709091038548000  The price of lumber $LB_F is down 22% since hi...   \n",
       "2  1019711413798035500  Who says the American Dream is dead? https://t...   \n",
       "3  1019716662587740200  Barry Silbert is extremely optimistic on bitco...   \n",
       "4  1019718460287389700  How satellites avoid attacks and space junk wh...   \n",
       "\n",
       "                        timestamp        source symbols      company_names  \\\n",
       "0  Wed Jul 18 21:33:26 +0000 2018  GoldmanSachs      GS  The Goldman Sachs   \n",
       "1  Wed Jul 18 22:22:47 +0000 2018    StockTwits       M             Macy's   \n",
       "2  Wed Jul 18 22:32:01 +0000 2018     TheStreet     AIG           American   \n",
       "3  Wed Jul 18 22:52:52 +0000 2018   MarketWatch     BTC            Bitcoin   \n",
       "4  Wed Jul 18 23:00:01 +0000 2018        Forbes    ORCL             Oracle   \n",
       "\n",
       "                                                 url  verified  \n",
       "0  https://twitter.com/i/web/status/1019696670777...      True  \n",
       "1  https://twitter.com/i/web/status/1019709091038...      True  \n",
       "2                            https://buff.ly/2L3kmc4      True  \n",
       "3  https://twitter.com/i/web/status/1019716662587...      True  \n",
       "4                     http://on.forbes.com/6013DqDDU      True  "
      ]
     },
     "execution_count": 18,
     "metadata": {},
     "output_type": "execute_result"
    }
   ],
   "source": [
    "tweets.head()"
   ]
  },
  {
   "cell_type": "code",
   "execution_count": 20,
   "id": "c659cb79",
   "metadata": {},
   "outputs": [
    {
     "data": {
      "text/plain": [
       "(28264, 8)"
      ]
     },
     "execution_count": 20,
     "metadata": {},
     "output_type": "execute_result"
    }
   ],
   "source": [
    "tweets.shape"
   ]
  },
  {
   "cell_type": "code",
   "execution_count": 21,
   "id": "182344d2",
   "metadata": {},
   "outputs": [],
   "source": [
    "#creating new column in tweets that maps stringTosentiment to the text column "
   ]
  },
  {
   "cell_type": "code",
   "execution_count": 25,
   "id": "18a32044",
   "metadata": {},
   "outputs": [],
   "source": [
    "tweets['sentiment'] = tweets['text'].apply(stringToSentiment)"
   ]
  },
  {
   "cell_type": "code",
   "execution_count": 26,
   "id": "332fba16",
   "metadata": {},
   "outputs": [
    {
     "data": {
      "text/html": [
       "<div>\n",
       "<style scoped>\n",
       "    .dataframe tbody tr th:only-of-type {\n",
       "        vertical-align: middle;\n",
       "    }\n",
       "\n",
       "    .dataframe tbody tr th {\n",
       "        vertical-align: top;\n",
       "    }\n",
       "\n",
       "    .dataframe thead th {\n",
       "        text-align: right;\n",
       "    }\n",
       "</style>\n",
       "<table border=\"1\" class=\"dataframe\">\n",
       "  <thead>\n",
       "    <tr style=\"text-align: right;\">\n",
       "      <th></th>\n",
       "      <th>id</th>\n",
       "      <th>text</th>\n",
       "      <th>timestamp</th>\n",
       "      <th>source</th>\n",
       "      <th>symbols</th>\n",
       "      <th>company_names</th>\n",
       "      <th>url</th>\n",
       "      <th>verified</th>\n",
       "      <th>sentiment</th>\n",
       "    </tr>\n",
       "  </thead>\n",
       "  <tbody>\n",
       "    <tr>\n",
       "      <th>0</th>\n",
       "      <td>1019696670777503700</td>\n",
       "      <td>VIDEO: “I was in my office. I was minding my o...</td>\n",
       "      <td>Wed Jul 18 21:33:26 +0000 2018</td>\n",
       "      <td>GoldmanSachs</td>\n",
       "      <td>GS</td>\n",
       "      <td>The Goldman Sachs</td>\n",
       "      <td>https://twitter.com/i/web/status/1019696670777...</td>\n",
       "      <td>True</td>\n",
       "      <td>0.600000</td>\n",
       "    </tr>\n",
       "    <tr>\n",
       "      <th>1</th>\n",
       "      <td>1019709091038548000</td>\n",
       "      <td>The price of lumber $LB_F is down 22% since hi...</td>\n",
       "      <td>Wed Jul 18 22:22:47 +0000 2018</td>\n",
       "      <td>StockTwits</td>\n",
       "      <td>M</td>\n",
       "      <td>Macy's</td>\n",
       "      <td>https://twitter.com/i/web/status/1019709091038...</td>\n",
       "      <td>True</td>\n",
       "      <td>-0.155556</td>\n",
       "    </tr>\n",
       "    <tr>\n",
       "      <th>2</th>\n",
       "      <td>1019711413798035500</td>\n",
       "      <td>Who says the American Dream is dead? https://t...</td>\n",
       "      <td>Wed Jul 18 22:32:01 +0000 2018</td>\n",
       "      <td>TheStreet</td>\n",
       "      <td>AIG</td>\n",
       "      <td>American</td>\n",
       "      <td>https://buff.ly/2L3kmc4</td>\n",
       "      <td>True</td>\n",
       "      <td>-0.100000</td>\n",
       "    </tr>\n",
       "    <tr>\n",
       "      <th>3</th>\n",
       "      <td>1019716662587740200</td>\n",
       "      <td>Barry Silbert is extremely optimistic on bitco...</td>\n",
       "      <td>Wed Jul 18 22:52:52 +0000 2018</td>\n",
       "      <td>MarketWatch</td>\n",
       "      <td>BTC</td>\n",
       "      <td>Bitcoin</td>\n",
       "      <td>https://twitter.com/i/web/status/1019716662587...</td>\n",
       "      <td>True</td>\n",
       "      <td>0.005682</td>\n",
       "    </tr>\n",
       "    <tr>\n",
       "      <th>4</th>\n",
       "      <td>1019718460287389700</td>\n",
       "      <td>How satellites avoid attacks and space junk wh...</td>\n",
       "      <td>Wed Jul 18 23:00:01 +0000 2018</td>\n",
       "      <td>Forbes</td>\n",
       "      <td>ORCL</td>\n",
       "      <td>Oracle</td>\n",
       "      <td>http://on.forbes.com/6013DqDDU</td>\n",
       "      <td>True</td>\n",
       "      <td>0.000000</td>\n",
       "    </tr>\n",
       "  </tbody>\n",
       "</table>\n",
       "</div>"
      ],
      "text/plain": [
       "                    id                                               text  \\\n",
       "0  1019696670777503700  VIDEO: “I was in my office. I was minding my o...   \n",
       "1  1019709091038548000  The price of lumber $LB_F is down 22% since hi...   \n",
       "2  1019711413798035500  Who says the American Dream is dead? https://t...   \n",
       "3  1019716662587740200  Barry Silbert is extremely optimistic on bitco...   \n",
       "4  1019718460287389700  How satellites avoid attacks and space junk wh...   \n",
       "\n",
       "                        timestamp        source symbols      company_names  \\\n",
       "0  Wed Jul 18 21:33:26 +0000 2018  GoldmanSachs      GS  The Goldman Sachs   \n",
       "1  Wed Jul 18 22:22:47 +0000 2018    StockTwits       M             Macy's   \n",
       "2  Wed Jul 18 22:32:01 +0000 2018     TheStreet     AIG           American   \n",
       "3  Wed Jul 18 22:52:52 +0000 2018   MarketWatch     BTC            Bitcoin   \n",
       "4  Wed Jul 18 23:00:01 +0000 2018        Forbes    ORCL             Oracle   \n",
       "\n",
       "                                                 url  verified  sentiment  \n",
       "0  https://twitter.com/i/web/status/1019696670777...      True   0.600000  \n",
       "1  https://twitter.com/i/web/status/1019709091038...      True  -0.155556  \n",
       "2                            https://buff.ly/2L3kmc4      True  -0.100000  \n",
       "3  https://twitter.com/i/web/status/1019716662587...      True   0.005682  \n",
       "4                     http://on.forbes.com/6013DqDDU      True   0.000000  "
      ]
     },
     "execution_count": 26,
     "metadata": {},
     "output_type": "execute_result"
    }
   ],
   "source": [
    "tweets.head()"
   ]
  },
  {
   "cell_type": "code",
   "execution_count": 27,
   "id": "22ae7fd7",
   "metadata": {},
   "outputs": [],
   "source": [
    "#we applied the stringToSentiment function to every element in the text column"
   ]
  },
  {
   "cell_type": "code",
   "execution_count": 28,
   "id": "26155849",
   "metadata": {},
   "outputs": [],
   "source": [
    "tweets.index = pd.RangeIndex(start = 0, stop = 28264, step = 1)"
   ]
  },
  {
   "cell_type": "code",
   "execution_count": 29,
   "id": "32e0e8ab",
   "metadata": {},
   "outputs": [],
   "source": [
    "# as a list, we can splice it list(tweets.index) [:5]"
   ]
  },
  {
   "cell_type": "code",
   "execution_count": 31,
   "id": "1c8010f3",
   "metadata": {},
   "outputs": [],
   "source": [
    "tweets['Date'] = pd.to_datetime(tweets.timestamp)"
   ]
  },
  {
   "cell_type": "code",
   "execution_count": 32,
   "id": "3bfdbb92",
   "metadata": {},
   "outputs": [
    {
     "data": {
      "text/plain": [
       "0   2018-07-18 21:33:26+00:00\n",
       "1   2018-07-18 22:22:47+00:00\n",
       "2   2018-07-18 22:32:01+00:00\n",
       "3   2018-07-18 22:52:52+00:00\n",
       "4   2018-07-18 23:00:01+00:00\n",
       "Name: Date, dtype: datetime64[ns, UTC]"
      ]
     },
     "execution_count": 32,
     "metadata": {},
     "output_type": "execute_result"
    }
   ],
   "source": [
    "tweets['Date'].head()"
   ]
  },
  {
   "cell_type": "code",
   "execution_count": 33,
   "id": "ea346eb7",
   "metadata": {},
   "outputs": [],
   "source": [
    "tweets.index = tweets.Date"
   ]
  },
  {
   "cell_type": "code",
   "execution_count": 35,
   "id": "f0803e40",
   "metadata": {},
   "outputs": [
    {
     "data": {
      "text/plain": [
       "DatetimeIndex(['2018-07-18 21:33:26+00:00', '2018-07-18 22:22:47+00:00',\n",
       "               '2018-07-18 22:32:01+00:00', '2018-07-18 22:52:52+00:00',\n",
       "               '2018-07-18 23:00:01+00:00', '2018-07-18 23:04:00+00:00',\n",
       "               '2018-07-18 23:06:58+00:00', '2018-07-18 23:08:45+00:00',\n",
       "               '2018-07-18 23:09:00+00:00', '2018-07-18 23:10:41+00:00',\n",
       "               ...\n",
       "               '2018-07-18 23:46:00+00:00', '2018-07-18 23:46:00+00:00',\n",
       "               '2018-07-18 23:46:00+00:00', '2018-07-18 23:46:10+00:00',\n",
       "               '2018-07-18 23:46:12+00:00', '2018-07-18 23:46:13+00:00',\n",
       "               '2018-07-18 23:46:19+00:00', '2018-07-18 23:46:19+00:00',\n",
       "               '2018-07-18 23:46:20+00:00', '2018-07-18 23:46:27+00:00'],\n",
       "              dtype='datetime64[ns, UTC]', name='Date', length=28264, freq=None)"
      ]
     },
     "execution_count": 35,
     "metadata": {},
     "output_type": "execute_result"
    }
   ],
   "source": [
    "tweets.index"
   ]
  },
  {
   "cell_type": "code",
   "execution_count": 36,
   "id": "1bce4aa1",
   "metadata": {},
   "outputs": [
    {
     "data": {
      "text/html": [
       "<div>\n",
       "<style scoped>\n",
       "    .dataframe tbody tr th:only-of-type {\n",
       "        vertical-align: middle;\n",
       "    }\n",
       "\n",
       "    .dataframe tbody tr th {\n",
       "        vertical-align: top;\n",
       "    }\n",
       "\n",
       "    .dataframe thead th {\n",
       "        text-align: right;\n",
       "    }\n",
       "</style>\n",
       "<table border=\"1\" class=\"dataframe\">\n",
       "  <thead>\n",
       "    <tr style=\"text-align: right;\">\n",
       "      <th></th>\n",
       "      <th>id</th>\n",
       "      <th>text</th>\n",
       "      <th>timestamp</th>\n",
       "      <th>source</th>\n",
       "      <th>symbols</th>\n",
       "      <th>company_names</th>\n",
       "      <th>url</th>\n",
       "      <th>verified</th>\n",
       "      <th>sentiment</th>\n",
       "      <th>Date</th>\n",
       "    </tr>\n",
       "    <tr>\n",
       "      <th>Date</th>\n",
       "      <th></th>\n",
       "      <th></th>\n",
       "      <th></th>\n",
       "      <th></th>\n",
       "      <th></th>\n",
       "      <th></th>\n",
       "      <th></th>\n",
       "      <th></th>\n",
       "      <th></th>\n",
       "      <th></th>\n",
       "    </tr>\n",
       "  </thead>\n",
       "  <tbody>\n",
       "    <tr>\n",
       "      <th>2018-07-18 21:33:26+00:00</th>\n",
       "      <td>1019696670777503700</td>\n",
       "      <td>VIDEO: “I was in my office. I was minding my o...</td>\n",
       "      <td>Wed Jul 18 21:33:26 +0000 2018</td>\n",
       "      <td>GoldmanSachs</td>\n",
       "      <td>GS</td>\n",
       "      <td>The Goldman Sachs</td>\n",
       "      <td>https://twitter.com/i/web/status/1019696670777...</td>\n",
       "      <td>True</td>\n",
       "      <td>0.600000</td>\n",
       "      <td>2018-07-18 21:33:26+00:00</td>\n",
       "    </tr>\n",
       "    <tr>\n",
       "      <th>2018-07-18 22:22:47+00:00</th>\n",
       "      <td>1019709091038548000</td>\n",
       "      <td>The price of lumber $LB_F is down 22% since hi...</td>\n",
       "      <td>Wed Jul 18 22:22:47 +0000 2018</td>\n",
       "      <td>StockTwits</td>\n",
       "      <td>M</td>\n",
       "      <td>Macy's</td>\n",
       "      <td>https://twitter.com/i/web/status/1019709091038...</td>\n",
       "      <td>True</td>\n",
       "      <td>-0.155556</td>\n",
       "      <td>2018-07-18 22:22:47+00:00</td>\n",
       "    </tr>\n",
       "    <tr>\n",
       "      <th>2018-07-18 22:32:01+00:00</th>\n",
       "      <td>1019711413798035500</td>\n",
       "      <td>Who says the American Dream is dead? https://t...</td>\n",
       "      <td>Wed Jul 18 22:32:01 +0000 2018</td>\n",
       "      <td>TheStreet</td>\n",
       "      <td>AIG</td>\n",
       "      <td>American</td>\n",
       "      <td>https://buff.ly/2L3kmc4</td>\n",
       "      <td>True</td>\n",
       "      <td>-0.100000</td>\n",
       "      <td>2018-07-18 22:32:01+00:00</td>\n",
       "    </tr>\n",
       "    <tr>\n",
       "      <th>2018-07-18 22:52:52+00:00</th>\n",
       "      <td>1019716662587740200</td>\n",
       "      <td>Barry Silbert is extremely optimistic on bitco...</td>\n",
       "      <td>Wed Jul 18 22:52:52 +0000 2018</td>\n",
       "      <td>MarketWatch</td>\n",
       "      <td>BTC</td>\n",
       "      <td>Bitcoin</td>\n",
       "      <td>https://twitter.com/i/web/status/1019716662587...</td>\n",
       "      <td>True</td>\n",
       "      <td>0.005682</td>\n",
       "      <td>2018-07-18 22:52:52+00:00</td>\n",
       "    </tr>\n",
       "    <tr>\n",
       "      <th>2018-07-18 23:00:01+00:00</th>\n",
       "      <td>1019718460287389700</td>\n",
       "      <td>How satellites avoid attacks and space junk wh...</td>\n",
       "      <td>Wed Jul 18 23:00:01 +0000 2018</td>\n",
       "      <td>Forbes</td>\n",
       "      <td>ORCL</td>\n",
       "      <td>Oracle</td>\n",
       "      <td>http://on.forbes.com/6013DqDDU</td>\n",
       "      <td>True</td>\n",
       "      <td>0.000000</td>\n",
       "      <td>2018-07-18 23:00:01+00:00</td>\n",
       "    </tr>\n",
       "  </tbody>\n",
       "</table>\n",
       "</div>"
      ],
      "text/plain": [
       "                                            id  \\\n",
       "Date                                             \n",
       "2018-07-18 21:33:26+00:00  1019696670777503700   \n",
       "2018-07-18 22:22:47+00:00  1019709091038548000   \n",
       "2018-07-18 22:32:01+00:00  1019711413798035500   \n",
       "2018-07-18 22:52:52+00:00  1019716662587740200   \n",
       "2018-07-18 23:00:01+00:00  1019718460287389700   \n",
       "\n",
       "                                                                        text  \\\n",
       "Date                                                                           \n",
       "2018-07-18 21:33:26+00:00  VIDEO: “I was in my office. I was minding my o...   \n",
       "2018-07-18 22:22:47+00:00  The price of lumber $LB_F is down 22% since hi...   \n",
       "2018-07-18 22:32:01+00:00  Who says the American Dream is dead? https://t...   \n",
       "2018-07-18 22:52:52+00:00  Barry Silbert is extremely optimistic on bitco...   \n",
       "2018-07-18 23:00:01+00:00  How satellites avoid attacks and space junk wh...   \n",
       "\n",
       "                                                timestamp        source  \\\n",
       "Date                                                                      \n",
       "2018-07-18 21:33:26+00:00  Wed Jul 18 21:33:26 +0000 2018  GoldmanSachs   \n",
       "2018-07-18 22:22:47+00:00  Wed Jul 18 22:22:47 +0000 2018    StockTwits   \n",
       "2018-07-18 22:32:01+00:00  Wed Jul 18 22:32:01 +0000 2018     TheStreet   \n",
       "2018-07-18 22:52:52+00:00  Wed Jul 18 22:52:52 +0000 2018   MarketWatch   \n",
       "2018-07-18 23:00:01+00:00  Wed Jul 18 23:00:01 +0000 2018        Forbes   \n",
       "\n",
       "                          symbols      company_names  \\\n",
       "Date                                                   \n",
       "2018-07-18 21:33:26+00:00      GS  The Goldman Sachs   \n",
       "2018-07-18 22:22:47+00:00       M             Macy's   \n",
       "2018-07-18 22:32:01+00:00     AIG           American   \n",
       "2018-07-18 22:52:52+00:00     BTC            Bitcoin   \n",
       "2018-07-18 23:00:01+00:00    ORCL             Oracle   \n",
       "\n",
       "                                                                         url  \\\n",
       "Date                                                                           \n",
       "2018-07-18 21:33:26+00:00  https://twitter.com/i/web/status/1019696670777...   \n",
       "2018-07-18 22:22:47+00:00  https://twitter.com/i/web/status/1019709091038...   \n",
       "2018-07-18 22:32:01+00:00                            https://buff.ly/2L3kmc4   \n",
       "2018-07-18 22:52:52+00:00  https://twitter.com/i/web/status/1019716662587...   \n",
       "2018-07-18 23:00:01+00:00                     http://on.forbes.com/6013DqDDU   \n",
       "\n",
       "                           verified  sentiment                      Date  \n",
       "Date                                                                      \n",
       "2018-07-18 21:33:26+00:00      True   0.600000 2018-07-18 21:33:26+00:00  \n",
       "2018-07-18 22:22:47+00:00      True  -0.155556 2018-07-18 22:22:47+00:00  \n",
       "2018-07-18 22:32:01+00:00      True  -0.100000 2018-07-18 22:32:01+00:00  \n",
       "2018-07-18 22:52:52+00:00      True   0.005682 2018-07-18 22:52:52+00:00  \n",
       "2018-07-18 23:00:01+00:00      True   0.000000 2018-07-18 23:00:01+00:00  "
      ]
     },
     "execution_count": 36,
     "metadata": {},
     "output_type": "execute_result"
    }
   ],
   "source": [
    "tweets.head()"
   ]
  },
  {
   "cell_type": "code",
   "execution_count": 38,
   "id": "fae9015c",
   "metadata": {},
   "outputs": [],
   "source": [
    "# creating a dataframe called daily_tweets which resamples tweets by D, averaging the column "
   ]
  },
  {
   "cell_type": "code",
   "execution_count": 45,
   "id": "24bc5572",
   "metadata": {},
   "outputs": [],
   "source": [
    "daily_tweets = tweets[['sentiment']].resample('D').mean()"
   ]
  },
  {
   "cell_type": "code",
   "execution_count": 46,
   "id": "cbaaa0c1",
   "metadata": {},
   "outputs": [
    {
     "data": {
      "text/html": [
       "<div>\n",
       "<style scoped>\n",
       "    .dataframe tbody tr th:only-of-type {\n",
       "        vertical-align: middle;\n",
       "    }\n",
       "\n",
       "    .dataframe tbody tr th {\n",
       "        vertical-align: top;\n",
       "    }\n",
       "\n",
       "    .dataframe thead th {\n",
       "        text-align: right;\n",
       "    }\n",
       "</style>\n",
       "<table border=\"1\" class=\"dataframe\">\n",
       "  <thead>\n",
       "    <tr style=\"text-align: right;\">\n",
       "      <th></th>\n",
       "      <th>sentiment</th>\n",
       "    </tr>\n",
       "    <tr>\n",
       "      <th>Date</th>\n",
       "      <th></th>\n",
       "    </tr>\n",
       "  </thead>\n",
       "  <tbody>\n",
       "    <tr>\n",
       "      <th>2018-02-23 00:00:00+00:00</th>\n",
       "      <td>0.136364</td>\n",
       "    </tr>\n",
       "    <tr>\n",
       "      <th>2018-02-24 00:00:00+00:00</th>\n",
       "      <td>NaN</td>\n",
       "    </tr>\n",
       "    <tr>\n",
       "      <th>2018-02-25 00:00:00+00:00</th>\n",
       "      <td>NaN</td>\n",
       "    </tr>\n",
       "    <tr>\n",
       "      <th>2018-02-26 00:00:00+00:00</th>\n",
       "      <td>NaN</td>\n",
       "    </tr>\n",
       "    <tr>\n",
       "      <th>2018-02-27 00:00:00+00:00</th>\n",
       "      <td>NaN</td>\n",
       "    </tr>\n",
       "    <tr>\n",
       "      <th>...</th>\n",
       "      <td>...</td>\n",
       "    </tr>\n",
       "    <tr>\n",
       "      <th>2018-07-15 00:00:00+00:00</th>\n",
       "      <td>0.033433</td>\n",
       "    </tr>\n",
       "    <tr>\n",
       "      <th>2018-07-16 00:00:00+00:00</th>\n",
       "      <td>0.058232</td>\n",
       "    </tr>\n",
       "    <tr>\n",
       "      <th>2018-07-17 00:00:00+00:00</th>\n",
       "      <td>0.052576</td>\n",
       "    </tr>\n",
       "    <tr>\n",
       "      <th>2018-07-18 00:00:00+00:00</th>\n",
       "      <td>0.076626</td>\n",
       "    </tr>\n",
       "    <tr>\n",
       "      <th>2018-07-19 00:00:00+00:00</th>\n",
       "      <td>0.135647</td>\n",
       "    </tr>\n",
       "  </tbody>\n",
       "</table>\n",
       "<p>147 rows × 1 columns</p>\n",
       "</div>"
      ],
      "text/plain": [
       "                           sentiment\n",
       "Date                                \n",
       "2018-02-23 00:00:00+00:00   0.136364\n",
       "2018-02-24 00:00:00+00:00        NaN\n",
       "2018-02-25 00:00:00+00:00        NaN\n",
       "2018-02-26 00:00:00+00:00        NaN\n",
       "2018-02-27 00:00:00+00:00        NaN\n",
       "...                              ...\n",
       "2018-07-15 00:00:00+00:00   0.033433\n",
       "2018-07-16 00:00:00+00:00   0.058232\n",
       "2018-07-17 00:00:00+00:00   0.052576\n",
       "2018-07-18 00:00:00+00:00   0.076626\n",
       "2018-07-19 00:00:00+00:00   0.135647\n",
       "\n",
       "[147 rows x 1 columns]"
      ]
     },
     "execution_count": 46,
     "metadata": {},
     "output_type": "execute_result"
    }
   ],
   "source": [
    "daily_tweets"
   ]
  },
  {
   "cell_type": "code",
   "execution_count": 47,
   "id": "53191fbc",
   "metadata": {},
   "outputs": [
    {
     "data": {
      "text/plain": [
       "(147, 1)"
      ]
     },
     "execution_count": 47,
     "metadata": {},
     "output_type": "execute_result"
    }
   ],
   "source": [
    "daily_tweets.shape"
   ]
  },
  {
   "cell_type": "code",
   "execution_count": 48,
   "id": "d02c4af8",
   "metadata": {},
   "outputs": [],
   "source": [
    "daily_tweets.dropna(inplace = True)"
   ]
  },
  {
   "cell_type": "code",
   "execution_count": 49,
   "id": "06104faa",
   "metadata": {},
   "outputs": [
    {
     "data": {
      "text/html": [
       "<div>\n",
       "<style scoped>\n",
       "    .dataframe tbody tr th:only-of-type {\n",
       "        vertical-align: middle;\n",
       "    }\n",
       "\n",
       "    .dataframe tbody tr th {\n",
       "        vertical-align: top;\n",
       "    }\n",
       "\n",
       "    .dataframe thead th {\n",
       "        text-align: right;\n",
       "    }\n",
       "</style>\n",
       "<table border=\"1\" class=\"dataframe\">\n",
       "  <thead>\n",
       "    <tr style=\"text-align: right;\">\n",
       "      <th></th>\n",
       "      <th>sentiment</th>\n",
       "    </tr>\n",
       "    <tr>\n",
       "      <th>Date</th>\n",
       "      <th></th>\n",
       "    </tr>\n",
       "  </thead>\n",
       "  <tbody>\n",
       "    <tr>\n",
       "      <th>2018-02-23 00:00:00+00:00</th>\n",
       "      <td>0.136364</td>\n",
       "    </tr>\n",
       "    <tr>\n",
       "      <th>2018-07-08 00:00:00+00:00</th>\n",
       "      <td>-0.003182</td>\n",
       "    </tr>\n",
       "    <tr>\n",
       "      <th>2018-07-09 00:00:00+00:00</th>\n",
       "      <td>0.048334</td>\n",
       "    </tr>\n",
       "    <tr>\n",
       "      <th>2018-07-10 00:00:00+00:00</th>\n",
       "      <td>0.043485</td>\n",
       "    </tr>\n",
       "    <tr>\n",
       "      <th>2018-07-11 00:00:00+00:00</th>\n",
       "      <td>0.062144</td>\n",
       "    </tr>\n",
       "    <tr>\n",
       "      <th>2018-07-12 00:00:00+00:00</th>\n",
       "      <td>0.053857</td>\n",
       "    </tr>\n",
       "    <tr>\n",
       "      <th>2018-07-13 00:00:00+00:00</th>\n",
       "      <td>0.058823</td>\n",
       "    </tr>\n",
       "    <tr>\n",
       "      <th>2018-07-14 00:00:00+00:00</th>\n",
       "      <td>0.058636</td>\n",
       "    </tr>\n",
       "    <tr>\n",
       "      <th>2018-07-15 00:00:00+00:00</th>\n",
       "      <td>0.033433</td>\n",
       "    </tr>\n",
       "    <tr>\n",
       "      <th>2018-07-16 00:00:00+00:00</th>\n",
       "      <td>0.058232</td>\n",
       "    </tr>\n",
       "    <tr>\n",
       "      <th>2018-07-17 00:00:00+00:00</th>\n",
       "      <td>0.052576</td>\n",
       "    </tr>\n",
       "    <tr>\n",
       "      <th>2018-07-18 00:00:00+00:00</th>\n",
       "      <td>0.076626</td>\n",
       "    </tr>\n",
       "    <tr>\n",
       "      <th>2018-07-19 00:00:00+00:00</th>\n",
       "      <td>0.135647</td>\n",
       "    </tr>\n",
       "  </tbody>\n",
       "</table>\n",
       "</div>"
      ],
      "text/plain": [
       "                           sentiment\n",
       "Date                                \n",
       "2018-02-23 00:00:00+00:00   0.136364\n",
       "2018-07-08 00:00:00+00:00  -0.003182\n",
       "2018-07-09 00:00:00+00:00   0.048334\n",
       "2018-07-10 00:00:00+00:00   0.043485\n",
       "2018-07-11 00:00:00+00:00   0.062144\n",
       "2018-07-12 00:00:00+00:00   0.053857\n",
       "2018-07-13 00:00:00+00:00   0.058823\n",
       "2018-07-14 00:00:00+00:00   0.058636\n",
       "2018-07-15 00:00:00+00:00   0.033433\n",
       "2018-07-16 00:00:00+00:00   0.058232\n",
       "2018-07-17 00:00:00+00:00   0.052576\n",
       "2018-07-18 00:00:00+00:00   0.076626\n",
       "2018-07-19 00:00:00+00:00   0.135647"
      ]
     },
     "execution_count": 49,
     "metadata": {},
     "output_type": "execute_result"
    }
   ],
   "source": [
    "daily_tweets"
   ]
  },
  {
   "cell_type": "code",
   "execution_count": 51,
   "id": "8d1f512c",
   "metadata": {},
   "outputs": [
    {
     "data": {
      "text/plain": [
       "<AxesSubplot:xlabel='Date'>"
      ]
     },
     "execution_count": 51,
     "metadata": {},
     "output_type": "execute_result"
    },
    {
     "data": {
      "image/png": "[encoded data removed]",
      "text/plain": [
       "<Figure size 432x288 with 1 Axes>"
      ]
     },
     "metadata": {
      "needs_background": "light"
     },
     "output_type": "display_data"
    }
   ],
   "source": [
    "daily_tweets.sentiment.plot(kind='line')"
   ]
  },
  {
   "cell_type": "code",
   "execution_count": 55,
   "id": "0559b266",
   "metadata": {},
   "outputs": [
    {
     "name": "stdout",
     "output_type": "stream",
     "text": [
      "Collecting pandas-datareader\n",
      "  Downloading pandas_datareader-0.10.0-py3-none-any.whl (109 kB)\n",
      "Requirement already satisfied: requests>=2.19.0 in c:\\users\\offic\\anaconda3\\lib\\site-packages (from pandas-datareader) (2.27.1)\n",
      "Requirement already satisfied: pandas>=0.23 in c:\\users\\offic\\anaconda3\\lib\\site-packages (from pandas-datareader) (1.4.2)\n",
      "Requirement already satisfied: lxml in c:\\users\\offic\\anaconda3\\lib\\site-packages (from pandas-datareader) (4.8.0)\n",
      "Requirement already satisfied: python-dateutil>=2.8.1 in c:\\users\\offic\\anaconda3\\lib\\site-packages (from pandas>=0.23->pandas-datareader) (2.8.2)\n",
      "Requirement already satisfied: numpy>=1.18.5 in c:\\users\\offic\\anaconda3\\lib\\site-packages (from pandas>=0.23->pandas-datareader) (1.21.5)\n",
      "Requirement already satisfied: pytz>=2020.1 in c:\\users\\offic\\anaconda3\\lib\\site-packages (from pandas>=0.23->pandas-datareader) (2021.3)\n",
      "Requirement already satisfied: six>=1.5 in c:\\users\\offic\\anaconda3\\lib\\site-packages (from python-dateutil>=2.8.1->pandas>=0.23->pandas-datareader) (1.16.0)\n",
      "Requirement already satisfied: urllib3<1.27,>=1.21.1 in c:\\users\\offic\\anaconda3\\lib\\site-packages (from requests>=2.19.0->pandas-datareader) (1.26.9)\n",
      "Requirement already satisfied: certifi>=2017.4.17 in c:\\users\\offic\\anaconda3\\lib\\site-packages (from requests>=2.19.0->pandas-datareader) (2022.9.24)\n",
      "Requirement already satisfied: charset-normalizer~=2.0.0 in c:\\users\\offic\\anaconda3\\lib\\site-packages (from requests>=2.19.0->pandas-datareader) (2.0.4)\n",
      "Requirement already satisfied: idna<4,>=2.5 in c:\\users\\offic\\anaconda3\\lib\\site-packages (from requests>=2.19.0->pandas-datareader) (3.3)\n",
      "Installing collected packages: pandas-datareader\n",
      "Successfully installed pandas-datareader-0.10.0\n",
      "Note: you may need to restart the kernel to use updated packages.\n"
     ]
    }
   ],
   "source": [
    "pip install pandas-datareader"
   ]
  },
  {
   "cell_type": "code",
   "execution_count": 56,
   "id": "42e9d193",
   "metadata": {},
   "outputs": [],
   "source": [
    "import pandas_datareader as pdr\n",
    "import datetime"
   ]
  },
  {
   "cell_type": "code",
   "execution_count": 66,
   "id": "04ab192f",
   "metadata": {
    "scrolled": true
   },
   "outputs": [
    {
     "name": "stdout",
     "output_type": "stream",
     "text": [
      "Collecting yfinance\n",
      "  Using cached yfinance-0.2.12-py2.py3-none-any.whl (59 kB)\n",
      "Requirement already satisfied: pandas>=1.3.0 in c:\\users\\offic\\anaconda3\\lib\\site-packages (from yfinance) (1.4.2)\n",
      "Requirement already satisfied: cryptography>=3.3.2 in c:\\users\\offic\\anaconda3\\lib\\site-packages (from yfinance) (3.4.8)\n",
      "Collecting html5lib>=1.1\n",
      "  Using cached html5lib-1.1-py2.py3-none-any.whl (112 kB)\n",
      "Requirement already satisfied: multitasking>=0.0.7 in c:\\users\\offic\\anaconda3\\lib\\site-packages (from yfinance) (0.0.11)\n",
      "Collecting frozendict>=2.3.4\n",
      "  Using cached frozendict-2.3.5-cp39-cp39-win_amd64.whl (35 kB)\n",
      "Requirement already satisfied: appdirs>=1.4.4 in c:\\users\\offic\\anaconda3\\lib\\site-packages (from yfinance) (1.4.4)\n",
      "Requirement already satisfied: requests>=2.26 in c:\\users\\offic\\anaconda3\\lib\\site-packages (from yfinance) (2.27.1)\n",
      "Requirement already satisfied: lxml>=4.9.1 in c:\\users\\offic\\anaconda3\\lib\\site-packages (from yfinance) (4.9.2)\n",
      "Requirement already satisfied: pytz>=2022.5 in c:\\users\\offic\\anaconda3\\lib\\site-packages (from yfinance) (2022.7.1)\n",
      "Requirement already satisfied: numpy>=1.16.5 in c:\\users\\offic\\anaconda3\\lib\\site-packages (from yfinance) (1.21.5)\n",
      "Requirement already satisfied: beautifulsoup4>=4.11.1 in c:\\users\\offic\\anaconda3\\lib\\site-packages (from yfinance) (4.11.1)\n",
      "Requirement already satisfied: soupsieve>1.2 in c:\\users\\offic\\anaconda3\\lib\\site-packages (from beautifulsoup4>=4.11.1->yfinance) (2.3.1)\n",
      "Requirement already satisfied: cffi>=1.12 in c:\\users\\offic\\anaconda3\\lib\\site-packages (from cryptography>=3.3.2->yfinance) (1.15.0)\n",
      "Requirement already satisfied: webencodings in c:\\users\\offic\\anaconda3\\lib\\site-packages (from html5lib>=1.1->yfinance) (0.5.1)\n",
      "Requirement already satisfied: six>=1.9 in c:\\users\\offic\\anaconda3\\lib\\site-packages (from html5lib>=1.1->yfinance) (1.16.0)\n",
      "Requirement already satisfied: python-dateutil>=2.8.1 in c:\\users\\offic\\anaconda3\\lib\\site-packages (from pandas>=1.3.0->yfinance) (2.8.2)\n",
      "Requirement already satisfied: charset-normalizer~=2.0.0 in c:\\users\\offic\\anaconda3\\lib\\site-packages (from requests>=2.26->yfinance) (2.0.4)\n",
      "Requirement already satisfied: urllib3<1.27,>=1.21.1 in c:\\users\\offic\\anaconda3\\lib\\site-packages (from requests>=2.26->yfinance) (1.26.9)\n",
      "Requirement already satisfied: certifi>=2017.4.17 in c:\\users\\offic\\anaconda3\\lib\\site-packages (from requests>=2.26->yfinance) (2022.9.24)\n",
      "Requirement already satisfied: idna<4,>=2.5 in c:\\users\\offic\\anaconda3\\lib\\site-packages (from requests>=2.26->yfinance) (3.3)\n",
      "Requirement already satisfied: pycparser in c:\\users\\offic\\anaconda3\\lib\\site-packages (from cffi>=1.12->cryptography>=3.3.2->yfinance) (2.21)\n",
      "Installing collected packages: html5lib, frozendict, yfinance\n",
      "Successfully installed frozendict-2.3.5 html5lib-1.1 yfinance-0.2.12\n",
      "Note: you may need to restart the kernel to use updated packages.\n"
     ]
    }
   ],
   "source": [
    "pip install yfinance"
   ]
  },
  {
   "cell_type": "code",
   "execution_count": 67,
   "id": "715be697",
   "metadata": {
    "scrolled": true
   },
   "outputs": [
    {
     "ename": "TypeError",
     "evalue": "string indices must be integers",
     "output_type": "error",
     "traceback": [
      "\u001b[1;31m---------------------------------------------------------------------------\u001b[0m",
      "\u001b[1;31mTypeError\u001b[0m                                 Traceback (most recent call last)",
      "Input \u001b[1;32mIn [67]\u001b[0m, in \u001b[0;36m<cell line: 1>\u001b[1;34m()\u001b[0m\n\u001b[1;32m----> 1\u001b[0m historical_prices \u001b[38;5;241m=\u001b[39m \u001b[43mpdr\u001b[49m\u001b[38;5;241;43m.\u001b[39;49m\u001b[43mget_data_yahoo\u001b[49m\u001b[43m(\u001b[49m\u001b[38;5;124;43m'\u001b[39;49m\u001b[38;5;124;43mAPPL\u001b[39;49m\u001b[38;5;124;43m'\u001b[39;49m\u001b[43m,\u001b[49m\u001b[43m \u001b[49m\u001b[43mstart\u001b[49m\u001b[38;5;241;43m=\u001b[39;49m\u001b[43mdatetime\u001b[49m\u001b[38;5;241;43m.\u001b[39;49m\u001b[43mdatetime\u001b[49m\u001b[43m(\u001b[49m\u001b[38;5;241;43m2015\u001b[39;49m\u001b[43m,\u001b[49m\u001b[43m \u001b[49m\u001b[38;5;241;43m5\u001b[39;49m\u001b[43m,\u001b[49m\u001b[43m \u001b[49m\u001b[38;5;241;43m2\u001b[39;49m\u001b[43m)\u001b[49m\u001b[43m,\u001b[49m\u001b[43m \u001b[49m\u001b[43mend\u001b[49m\u001b[38;5;241;43m=\u001b[39;49m\u001b[43mdatetime\u001b[49m\u001b[38;5;241;43m.\u001b[39;49m\u001b[43mdatetime\u001b[49m\u001b[43m(\u001b[49m\u001b[38;5;241;43m2015\u001b[39;49m\u001b[43m,\u001b[49m\u001b[43m \u001b[49m\u001b[38;5;241;43m5\u001b[39;49m\u001b[43m,\u001b[49m\u001b[43m \u001b[49m\u001b[38;5;241;43m25\u001b[39;49m\u001b[43m)\u001b[49m\u001b[43m)\u001b[49m\n",
      "File \u001b[1;32m~\\anaconda3\\lib\\site-packages\\pandas_datareader\\data.py:80\u001b[0m, in \u001b[0;36mget_data_yahoo\u001b[1;34m(*args, **kwargs)\u001b[0m\n\u001b[0;32m     79\u001b[0m \u001b[38;5;28;01mdef\u001b[39;00m \u001b[38;5;21mget_data_yahoo\u001b[39m(\u001b[38;5;241m*\u001b[39margs, \u001b[38;5;241m*\u001b[39m\u001b[38;5;241m*\u001b[39mkwargs):\n\u001b[1;32m---> 80\u001b[0m     \u001b[38;5;28;01mreturn\u001b[39;00m \u001b[43mYahooDailyReader\u001b[49m\u001b[43m(\u001b[49m\u001b[38;5;241;43m*\u001b[39;49m\u001b[43margs\u001b[49m\u001b[43m,\u001b[49m\u001b[43m \u001b[49m\u001b[38;5;241;43m*\u001b[39;49m\u001b[38;5;241;43m*\u001b[39;49m\u001b[43mkwargs\u001b[49m\u001b[43m)\u001b[49m\u001b[38;5;241;43m.\u001b[39;49m\u001b[43mread\u001b[49m\u001b[43m(\u001b[49m\u001b[43m)\u001b[49m\n",
      "File \u001b[1;32m~\\anaconda3\\lib\\site-packages\\pandas_datareader\\base.py:253\u001b[0m, in \u001b[0;36m_DailyBaseReader.read\u001b[1;34m(self)\u001b[0m\n\u001b[0;32m    251\u001b[0m \u001b[38;5;66;03m# If a single symbol, (e.g., 'GOOG')\u001b[39;00m\n\u001b[0;32m    252\u001b[0m \u001b[38;5;28;01mif\u001b[39;00m \u001b[38;5;28misinstance\u001b[39m(\u001b[38;5;28mself\u001b[39m\u001b[38;5;241m.\u001b[39msymbols, (string_types, \u001b[38;5;28mint\u001b[39m)):\n\u001b[1;32m--> 253\u001b[0m     df \u001b[38;5;241m=\u001b[39m \u001b[38;5;28;43mself\u001b[39;49m\u001b[38;5;241;43m.\u001b[39;49m\u001b[43m_read_one_data\u001b[49m\u001b[43m(\u001b[49m\u001b[38;5;28;43mself\u001b[39;49m\u001b[38;5;241;43m.\u001b[39;49m\u001b[43murl\u001b[49m\u001b[43m,\u001b[49m\u001b[43m \u001b[49m\u001b[43mparams\u001b[49m\u001b[38;5;241;43m=\u001b[39;49m\u001b[38;5;28;43mself\u001b[39;49m\u001b[38;5;241;43m.\u001b[39;49m\u001b[43m_get_params\u001b[49m\u001b[43m(\u001b[49m\u001b[38;5;28;43mself\u001b[39;49m\u001b[38;5;241;43m.\u001b[39;49m\u001b[43msymbols\u001b[49m\u001b[43m)\u001b[49m\u001b[43m)\u001b[49m\n\u001b[0;32m    254\u001b[0m \u001b[38;5;66;03m# Or multiple symbols, (e.g., ['GOOG', 'AAPL', 'MSFT'])\u001b[39;00m\n\u001b[0;32m    255\u001b[0m \u001b[38;5;28;01melif\u001b[39;00m \u001b[38;5;28misinstance\u001b[39m(\u001b[38;5;28mself\u001b[39m\u001b[38;5;241m.\u001b[39msymbols, DataFrame):\n",
      "File \u001b[1;32m~\\anaconda3\\lib\\site-packages\\pandas_datareader\\yahoo\\daily.py:153\u001b[0m, in \u001b[0;36mYahooDailyReader._read_one_data\u001b[1;34m(self, url, params)\u001b[0m\n\u001b[0;32m    151\u001b[0m \u001b[38;5;28;01mtry\u001b[39;00m:\n\u001b[0;32m    152\u001b[0m     j \u001b[38;5;241m=\u001b[39m json\u001b[38;5;241m.\u001b[39mloads(re\u001b[38;5;241m.\u001b[39msearch(ptrn, resp\u001b[38;5;241m.\u001b[39mtext, re\u001b[38;5;241m.\u001b[39mDOTALL)\u001b[38;5;241m.\u001b[39mgroup(\u001b[38;5;241m1\u001b[39m))\n\u001b[1;32m--> 153\u001b[0m     data \u001b[38;5;241m=\u001b[39m \u001b[43mj\u001b[49m\u001b[43m[\u001b[49m\u001b[38;5;124;43m\"\u001b[39;49m\u001b[38;5;124;43mcontext\u001b[39;49m\u001b[38;5;124;43m\"\u001b[39;49m\u001b[43m]\u001b[49m\u001b[43m[\u001b[49m\u001b[38;5;124;43m\"\u001b[39;49m\u001b[38;5;124;43mdispatcher\u001b[39;49m\u001b[38;5;124;43m\"\u001b[39;49m\u001b[43m]\u001b[49m\u001b[43m[\u001b[49m\u001b[38;5;124;43m\"\u001b[39;49m\u001b[38;5;124;43mstores\u001b[39;49m\u001b[38;5;124;43m\"\u001b[39;49m\u001b[43m]\u001b[49m\u001b[43m[\u001b[49m\u001b[38;5;124;43m\"\u001b[39;49m\u001b[38;5;124;43mHistoricalPriceStore\u001b[39;49m\u001b[38;5;124;43m\"\u001b[39;49m\u001b[43m]\u001b[49m\n\u001b[0;32m    154\u001b[0m \u001b[38;5;28;01mexcept\u001b[39;00m \u001b[38;5;167;01mKeyError\u001b[39;00m:\n\u001b[0;32m    155\u001b[0m     msg \u001b[38;5;241m=\u001b[39m \u001b[38;5;124m\"\u001b[39m\u001b[38;5;124mNo data fetched for symbol \u001b[39m\u001b[38;5;132;01m{}\u001b[39;00m\u001b[38;5;124m using \u001b[39m\u001b[38;5;132;01m{}\u001b[39;00m\u001b[38;5;124m\"\u001b[39m\n",
      "\u001b[1;31mTypeError\u001b[0m: string indices must be integers"
     ]
    }
   ],
   "source": [
    "historical_prices = pdr.get_data_yahoo('APPL', start=datetime.datetime(2015, 5, 2), end=datetime.datetime(2015, 5, 25))"
   ]
  },
  {
   "cell_type": "code",
   "execution_count": null,
   "id": "e980918d",
   "metadata": {},
   "outputs": [],
   "source": []
  }
 ],
 "metadata": {
  "kernelspec": {
   "display_name": "Python 3 (ipykernel)",
   "language": "python",
   "name": "python3"
  },
  "language_info": {
   "codemirror_mode": {
    "name": "ipython",
    "version": 3
   },
   "file_extension": ".py",
   "mimetype": "text/x-python",
   "name": "python",
   "nbconvert_exporter": "python",
   "pygments_lexer": "ipython3",
   "version": "3.9.12"
  }
 },
 "nbformat": 4,
 "nbformat_minor": 5
}
